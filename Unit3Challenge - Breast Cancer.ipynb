{
 "cells": [
  {
   "cell_type": "code",
   "execution_count": 1,
   "metadata": {
    "collapsed": true
   },
   "outputs": [],
   "source": [
    "import pandas as pd\n",
    "import numpy as np\n",
    "import matplotlib as plt\n",
    "from sklearn.metrics import accuracy_score\n",
    "from sklearn.ensemble import RandomForestClassifier\n",
    "from sklearn.linear_model import RidgeClassifier\n",
    "from sklearn.ensemble import GradientBoostingClassifier"
   ]
  },
  {
   "cell_type": "code",
   "execution_count": 2,
   "metadata": {
    "collapsed": true
   },
   "outputs": [],
   "source": [
    "column_names = ['ID', 'Clump Thickness', 'Uniformity of Cell Size', \n",
    "                'Uniformity of Cell Shape', 'MarginalAdhesion',\n",
    "                'Single Epithelial Cell Size', 'BareNuclei', \n",
    "                'Bland Chromatin', 'Normal Nucleoli', 'Mitoses', 'Class']\n",
    "column_names = [C.replace(' ', '') for C in column_names]\n",
    "df = pd.read_csv('/Users/joshuarkarnad/Desktop/Thinkful/Data/breast-cancer-wisconsin.data.txt', names = column_names)"
   ]
  },
  {
   "cell_type": "code",
   "execution_count": 3,
   "metadata": {
    "collapsed": true
   },
   "outputs": [],
   "source": [
    "from sklearn.model_selection import train_test_split\n",
    "\n",
    "df['Cancer'] = (df.Class > 2).astype(int)\n",
    "df = df.drop('ID', axis = 1)\n",
    "df = df.drop('Class', axis =1)\n",
    "df.loc[df['BareNuclei'] == '?', 'BareNuclei'] = 0\n",
    "from sklearn.model_selection import cross_val_score"
   ]
  },
  {
   "cell_type": "code",
   "execution_count": 4,
   "metadata": {
    "collapsed": true
   },
   "outputs": [],
   "source": [
    "df_train, df_test = train_test_split(df, test_size=0.2)\n",
    "X_train = df_train.loc[:, ~(df_train.columns).isin(['Cancer'])]\n",
    "Y_train = df_train.Cancer\n",
    "X_test = df_test.loc[:, ~(df_test.columns).isin(['Cancer'])]\n",
    "Y_test = df_test.Cancer"
   ]
  },
  {
   "cell_type": "code",
   "execution_count": 6,
   "metadata": {},
   "outputs": [
    {
     "data": {
      "text/plain": [
       "0.95714285714285718"
      ]
     },
     "execution_count": 6,
     "metadata": {},
     "output_type": "execute_result"
    }
   ],
   "source": [
    "ridge = RidgeClassifier()\n",
    "ridge.fit(X_train, Y_train)\n",
    "Y_pred_ridge = ridge.predict(X_test)\n",
    "accuracy_score(Y_test, Y_pred_ridge)"
   ]
  },
  {
   "cell_type": "code",
   "execution_count": 8,
   "metadata": {},
   "outputs": [
    {
     "data": {
      "text/plain": [
       "0.93571428571428572"
      ]
     },
     "execution_count": 8,
     "metadata": {},
     "output_type": "execute_result"
    }
   ],
   "source": [
    "gbc = GradientBoostingClassifier()\n",
    "gbc.fit(X_train, Y_train)\n",
    "Y_GBC_pred = gbc.predict(X_test)\n",
    "accuracy_score(Y_test, Y_GBC_pred)"
   ]
  },
  {
   "cell_type": "code",
   "execution_count": 9,
   "metadata": {},
   "outputs": [
    {
     "data": {
      "image/png": "[encoded data removed]",
      "text/plain": [
       "<matplotlib.figure.Figure at 0x10a6bb0b8>"
      ]
     },
     "metadata": {},
     "output_type": "display_data"
    }
   ],
   "source": [
    "feature_importance = gbc.feature_importances_\n",
    "import scipy\n",
    "from sklearn import datasets\n",
    "from sklearn.utils import shuffle\n",
    "from sklearn.metrics import mean_squared_error\n",
    "import matplotlib.pyplot as plt\n",
    "feature_importance = 100.0 * (feature_importance / feature_importance.max())\n",
    "sorted_idx = np.argsort(feature_importance)\n",
    "pos = np.arange(sorted_idx.shape[0]) + .5\n",
    "plt.barh(pos, feature_importance[sorted_idx], align='center')\n",
    "plt.yticks(pos, X_test.columns[sorted_idx])\n",
    "plt.xlabel('Relative Importance')\n",
    "plt.title('Variable Importance')\n",
    "plt.show()"
   ]
  },
  {
   "cell_type": "code",
   "execution_count": 10,
   "metadata": {},
   "outputs": [
    {
     "data": {
      "text/plain": [
       "0.95714285714285718"
      ]
     },
     "execution_count": 10,
     "metadata": {},
     "output_type": "execute_result"
    }
   ],
   "source": [
    "rfc = RandomForestClassifier()\n",
    "rfc.fit(X_train, Y_train)\n",
    "Y_RFC_Pred = rfc.predict(X_test)\n",
    "accuracy_score(Y_test, Y_RFC_Pred)"
   ]
  },
  {
   "cell_type": "code",
   "execution_count": 11,
   "metadata": {
    "collapsed": true
   },
   "outputs": [],
   "source": [
    "ridge_params = {'alpha': range(1,10), 'fit_intercept':[True,False],\n",
    "               'normalize': [True,False]}"
   ]
  },
  {
   "cell_type": "code",
   "execution_count": 12,
   "metadata": {
    "collapsed": true
   },
   "outputs": [],
   "source": [
    "from sklearn.model_selection import GridSearchCV\n",
    "GSridge = GridSearchCV(ridge, ridge_params)"
   ]
  },
  {
   "cell_type": "code",
   "execution_count": 13,
   "metadata": {},
   "outputs": [
    {
     "data": {
      "text/plain": [
       "GridSearchCV(cv=None, error_score='raise',\n",
       "       estimator=RidgeClassifier(alpha=1.0, class_weight=None, copy_X=True, fit_intercept=True,\n",
       "        max_iter=None, normalize=False, random_state=None, solver='auto',\n",
       "        tol=0.001),\n",
       "       fit_params=None, iid=True, n_jobs=1,\n",
       "       param_grid={'alpha': range(1, 10), 'fit_intercept': [True, False], 'normalize': [True, False]},\n",
       "       pre_dispatch='2*n_jobs', refit=True, return_train_score='warn',\n",
       "       scoring=None, verbose=0)"
      ]
     },
     "execution_count": 13,
     "metadata": {},
     "output_type": "execute_result"
    }
   ],
   "source": [
    "GSridge.fit(X_train,Y_train)"
   ]
  },
  {
   "cell_type": "code",
   "execution_count": 15,
   "metadata": {},
   "outputs": [
    {
     "name": "stderr",
     "output_type": "stream",
     "text": [
      "/Users/joshuarkarnad/anaconda3/lib/python3.6/site-packages/sklearn/utils/deprecation.py:122: FutureWarning: You are accessing a training score ('mean_train_score'), which will not be available by default any more in 0.21. If you need training scores, please set return_train_score=True\n",
      "  warnings.warn(*warn_args, **warn_kwargs)\n",
      "/Users/joshuarkarnad/anaconda3/lib/python3.6/site-packages/sklearn/utils/deprecation.py:122: FutureWarning: You are accessing a training score ('split0_train_score'), which will not be available by default any more in 0.21. If you need training scores, please set return_train_score=True\n",
      "  warnings.warn(*warn_args, **warn_kwargs)\n",
      "/Users/joshuarkarnad/anaconda3/lib/python3.6/site-packages/sklearn/utils/deprecation.py:122: FutureWarning: You are accessing a training score ('split1_train_score'), which will not be available by default any more in 0.21. If you need training scores, please set return_train_score=True\n",
      "  warnings.warn(*warn_args, **warn_kwargs)\n",
      "/Users/joshuarkarnad/anaconda3/lib/python3.6/site-packages/sklearn/utils/deprecation.py:122: FutureWarning: You are accessing a training score ('split2_train_score'), which will not be available by default any more in 0.21. If you need training scores, please set return_train_score=True\n",
      "  warnings.warn(*warn_args, **warn_kwargs)\n",
      "/Users/joshuarkarnad/anaconda3/lib/python3.6/site-packages/sklearn/utils/deprecation.py:122: FutureWarning: You are accessing a training score ('std_train_score'), which will not be available by default any more in 0.21. If you need training scores, please set return_train_score=True\n",
      "  warnings.warn(*warn_args, **warn_kwargs)\n"
     ]
    },
    {
     "data": {
      "text/plain": [
       "{'mean_fit_time': array([ 0.0024879 ,  0.00181746,  0.00236567,  0.00214497,  0.00261712,\n",
       "         0.0019633 ,  0.001604  ,  0.0015951 ,  0.00171971,  0.00166353,\n",
       "         0.00164843,  0.00162943,  0.00169571,  0.00163468,  0.00157468,\n",
       "         0.00162943,  0.00169635,  0.00163841,  0.00161282,  0.00157547,\n",
       "         0.00169245,  0.00164731,  0.00157777,  0.00163356,  0.00171192,\n",
       "         0.0016679 ,  0.00162586,  0.00159534,  0.00169794,  0.00163794,\n",
       "         0.0015823 ,  0.00157762,  0.00174499,  0.00167394,  0.00160321,\n",
       "         0.00162093]),\n",
       " 'mean_score_time': array([ 0.00054272,  0.00040849,  0.00060391,  0.00051832,  0.00068363,\n",
       "         0.0004491 ,  0.00038727,  0.00038719,  0.00039307,  0.00039077,\n",
       "         0.00039196,  0.00038719,  0.00038966,  0.00039212,  0.00038838,\n",
       "         0.0003957 ,  0.00039029,  0.00039204,  0.00038846,  0.00039021,\n",
       "         0.00040499,  0.00039268,  0.00038894,  0.00040301,  0.00039522,\n",
       "         0.00039101,  0.00040881,  0.00038926,  0.00039132,  0.00040531,\n",
       "         0.00038807,  0.00038815,  0.00039713,  0.00039148,  0.00039148,\n",
       "         0.0003891 ]),\n",
       " 'mean_test_score': array([ 0.94991055,  0.95527728,  0.88193202,  0.88193202,  0.94275492,\n",
       "         0.95527728,  0.8783542 ,  0.8783542 ,  0.9391771 ,  0.95527728,\n",
       "         0.8783542 ,  0.8783542 ,  0.93738819,  0.95527728,  0.8783542 ,\n",
       "         0.8783542 ,  0.92307692,  0.95527728,  0.8783542 ,  0.8783542 ,\n",
       "         0.91413238,  0.95527728,  0.8783542 ,  0.8783542 ,  0.90161002,\n",
       "         0.95527728,  0.8783542 ,  0.8783542 ,  0.89087657,  0.95527728,\n",
       "         0.8783542 ,  0.8783542 ,  0.8765653 ,  0.95527728,  0.8783542 ,\n",
       "         0.8783542 ]),\n",
       " 'mean_train_score': array([ 0.95439212,  0.95975409,  0.88729803,  0.88729803,  0.94275775,\n",
       "         0.95975409,  0.88640676,  0.88640676,  0.94096084,  0.95975409,\n",
       "         0.88640676,  0.88640676,  0.94006958,  0.95975409,  0.88640676,\n",
       "         0.88640676,  0.92844958,  0.95975409,  0.88640676,  0.88640676,\n",
       "         0.9132214 ,  0.95975409,  0.88640676,  0.88640676,  0.89980929,\n",
       "         0.95975409,  0.88640676,  0.88640676,  0.8908583 ,  0.95975409,\n",
       "         0.88640676,  0.88640676,  0.8792383 ,  0.95975409,  0.88640676,\n",
       "         0.88640676]),\n",
       " 'param_alpha': masked_array(data = [1 1 1 1 2 2 2 2 3 3 3 3 4 4 4 4 5 5 5 5 6 6 6 6 7 7 7 7 8 8 8 8 9 9 9 9],\n",
       "              mask = [False False False False False False False False False False False False\n",
       "  False False False False False False False False False False False False\n",
       "  False False False False False False False False False False False False],\n",
       "        fill_value = ?),\n",
       " 'param_fit_intercept': masked_array(data = [True True False False True True False False True True False False True\n",
       "  True False False True True False False True True False False True True\n",
       "  False False True True False False True True False False],\n",
       "              mask = [False False False False False False False False False False False False\n",
       "  False False False False False False False False False False False False\n",
       "  False False False False False False False False False False False False],\n",
       "        fill_value = ?),\n",
       " 'param_normalize': masked_array(data = [True False True False True False True False True False True False True\n",
       "  False True False True False True False True False True False True False\n",
       "  True False True False True False True False True False],\n",
       "              mask = [False False False False False False False False False False False False\n",
       "  False False False False False False False False False False False False\n",
       "  False False False False False False False False False False False False],\n",
       "        fill_value = ?),\n",
       " 'params': [{'alpha': 1, 'fit_intercept': True, 'normalize': True},\n",
       "  {'alpha': 1, 'fit_intercept': True, 'normalize': False},\n",
       "  {'alpha': 1, 'fit_intercept': False, 'normalize': True},\n",
       "  {'alpha': 1, 'fit_intercept': False, 'normalize': False},\n",
       "  {'alpha': 2, 'fit_intercept': True, 'normalize': True},\n",
       "  {'alpha': 2, 'fit_intercept': True, 'normalize': False},\n",
       "  {'alpha': 2, 'fit_intercept': False, 'normalize': True},\n",
       "  {'alpha': 2, 'fit_intercept': False, 'normalize': False},\n",
       "  {'alpha': 3, 'fit_intercept': True, 'normalize': True},\n",
       "  {'alpha': 3, 'fit_intercept': True, 'normalize': False},\n",
       "  {'alpha': 3, 'fit_intercept': False, 'normalize': True},\n",
       "  {'alpha': 3, 'fit_intercept': False, 'normalize': False},\n",
       "  {'alpha': 4, 'fit_intercept': True, 'normalize': True},\n",
       "  {'alpha': 4, 'fit_intercept': True, 'normalize': False},\n",
       "  {'alpha': 4, 'fit_intercept': False, 'normalize': True},\n",
       "  {'alpha': 4, 'fit_intercept': False, 'normalize': False},\n",
       "  {'alpha': 5, 'fit_intercept': True, 'normalize': True},\n",
       "  {'alpha': 5, 'fit_intercept': True, 'normalize': False},\n",
       "  {'alpha': 5, 'fit_intercept': False, 'normalize': True},\n",
       "  {'alpha': 5, 'fit_intercept': False, 'normalize': False},\n",
       "  {'alpha': 6, 'fit_intercept': True, 'normalize': True},\n",
       "  {'alpha': 6, 'fit_intercept': True, 'normalize': False},\n",
       "  {'alpha': 6, 'fit_intercept': False, 'normalize': True},\n",
       "  {'alpha': 6, 'fit_intercept': False, 'normalize': False},\n",
       "  {'alpha': 7, 'fit_intercept': True, 'normalize': True},\n",
       "  {'alpha': 7, 'fit_intercept': True, 'normalize': False},\n",
       "  {'alpha': 7, 'fit_intercept': False, 'normalize': True},\n",
       "  {'alpha': 7, 'fit_intercept': False, 'normalize': False},\n",
       "  {'alpha': 8, 'fit_intercept': True, 'normalize': True},\n",
       "  {'alpha': 8, 'fit_intercept': True, 'normalize': False},\n",
       "  {'alpha': 8, 'fit_intercept': False, 'normalize': True},\n",
       "  {'alpha': 8, 'fit_intercept': False, 'normalize': False},\n",
       "  {'alpha': 9, 'fit_intercept': True, 'normalize': True},\n",
       "  {'alpha': 9, 'fit_intercept': True, 'normalize': False},\n",
       "  {'alpha': 9, 'fit_intercept': False, 'normalize': True},\n",
       "  {'alpha': 9, 'fit_intercept': False, 'normalize': False}],\n",
       " 'rank_test_score': array([10,  1, 18, 18, 11,  1, 20, 20, 12,  1, 20, 20, 13,  1, 20, 20, 14,\n",
       "         1, 20, 20, 15,  1, 20, 20, 16,  1, 20, 20, 17,  1, 20, 20, 36,  1,\n",
       "        20, 20], dtype=int32),\n",
       " 'split0_test_score': array([ 0.94652406,  0.94652406,  0.87700535,  0.87700535,  0.93582888,\n",
       "         0.94652406,  0.87700535,  0.87700535,  0.93048128,  0.94652406,\n",
       "         0.87700535,  0.87700535,  0.92513369,  0.94652406,  0.87700535,\n",
       "         0.87700535,  0.92513369,  0.94652406,  0.87700535,  0.87700535,\n",
       "         0.9144385 ,  0.94652406,  0.87700535,  0.87700535,  0.90909091,\n",
       "         0.94652406,  0.87700535,  0.87700535,  0.90374332,  0.94652406,\n",
       "         0.87700535,  0.87700535,  0.88770053,  0.94652406,  0.87700535,\n",
       "         0.87700535]),\n",
       " 'split0_train_score': array([ 0.95698925,  0.95698925,  0.90053763,  0.90053763,  0.94623656,\n",
       "         0.95698925,  0.90053763,  0.90053763,  0.94354839,  0.95698925,\n",
       "         0.90053763,  0.90053763,  0.94623656,  0.95698925,  0.90053763,\n",
       "         0.90053763,  0.92741935,  0.95698925,  0.90053763,  0.90053763,\n",
       "         0.91129032,  0.95698925,  0.90053763,  0.90053763,  0.89516129,\n",
       "         0.95698925,  0.90053763,  0.90053763,  0.8844086 ,  0.95698925,\n",
       "         0.90053763,  0.90053763,  0.87634409,  0.95698925,  0.90053763,\n",
       "         0.90053763]),\n",
       " 'split1_test_score': array([ 0.96256684,  0.95721925,  0.90374332,  0.90374332,  0.95187166,\n",
       "         0.95721925,  0.90374332,  0.90374332,  0.95187166,  0.95721925,\n",
       "         0.90374332,  0.90374332,  0.95187166,  0.95721925,  0.90374332,\n",
       "         0.90374332,  0.94652406,  0.95721925,  0.90374332,  0.90374332,\n",
       "         0.93582888,  0.95721925,  0.90374332,  0.90374332,  0.9197861 ,\n",
       "         0.95721925,  0.90374332,  0.90374332,  0.90374332,  0.95721925,\n",
       "         0.90374332,  0.90374332,  0.89304813,  0.95721925,  0.90374332,\n",
       "         0.90374332]),\n",
       " 'split1_train_score': array([ 0.95698925,  0.96505376,  0.87365591,  0.87365591,  0.94086022,\n",
       "         0.96505376,  0.87365591,  0.87365591,  0.93548387,  0.96505376,\n",
       "         0.87365591,  0.87365591,  0.9327957 ,  0.96505376,  0.87365591,\n",
       "         0.87365591,  0.9327957 ,  0.96505376,  0.87365591,  0.87365591,\n",
       "         0.90591398,  0.96505376,  0.87365591,  0.87365591,  0.89784946,\n",
       "         0.96505376,  0.87365591,  0.87365591,  0.88709677,  0.96505376,\n",
       "         0.87365591,  0.87365591,  0.87634409,  0.96505376,  0.87365591,\n",
       "         0.87365591]),\n",
       " 'split2_test_score': array([ 0.94054054,  0.96216216,  0.86486486,  0.86486486,  0.94054054,\n",
       "         0.96216216,  0.85405405,  0.85405405,  0.93513514,  0.96216216,\n",
       "         0.85405405,  0.85405405,  0.93513514,  0.96216216,  0.85405405,\n",
       "         0.85405405,  0.8972973 ,  0.96216216,  0.85405405,  0.85405405,\n",
       "         0.89189189,  0.96216216,  0.85405405,  0.85405405,  0.87567568,\n",
       "         0.96216216,  0.85405405,  0.85405405,  0.86486486,  0.96216216,\n",
       "         0.85405405,  0.85405405,  0.84864865,  0.96216216,  0.85405405,\n",
       "         0.85405405]),\n",
       " 'split2_train_score': array([ 0.94919786,  0.95721925,  0.88770053,  0.88770053,  0.94117647,\n",
       "         0.95721925,  0.88502674,  0.88502674,  0.94385027,  0.95721925,\n",
       "         0.88502674,  0.88502674,  0.94117647,  0.95721925,  0.88502674,\n",
       "         0.88502674,  0.92513369,  0.95721925,  0.88502674,  0.88502674,\n",
       "         0.92245989,  0.95721925,  0.88502674,  0.88502674,  0.90641711,\n",
       "         0.95721925,  0.88502674,  0.88502674,  0.90106952,  0.95721925,\n",
       "         0.88502674,  0.88502674,  0.88502674,  0.95721925,  0.88502674,\n",
       "         0.88502674]),\n",
       " 'std_fit_time': array([  5.99967015e-04,   2.79373949e-05,   1.34938223e-04,\n",
       "          6.60429200e-04,   3.02322342e-04,   2.90595269e-04,\n",
       "          5.61957980e-06,   1.06878439e-05,   2.49152168e-05,\n",
       "          2.33198343e-05,   6.83611662e-05,   3.72982650e-05,\n",
       "          4.50829016e-06,   5.22832368e-06,   2.08152149e-06,\n",
       "          7.33726049e-05,   1.03320831e-05,   1.59342588e-06,\n",
       "          4.06349636e-05,   2.57521498e-06,   3.61230156e-06,\n",
       "          2.50307969e-06,   8.73261727e-06,   6.42381637e-05,\n",
       "          1.42178701e-05,   3.53188690e-05,   5.90897680e-05,\n",
       "          2.02214315e-05,   7.21673081e-06,   2.06017199e-06,\n",
       "          6.13847463e-06,   4.21580862e-06,   3.17129573e-05,\n",
       "          3.12009678e-05,   8.21381898e-06,   6.01931238e-05]),\n",
       " 'std_score_time': array([  1.19808967e-04,   5.61957980e-07,   2.55653208e-05,\n",
       "          1.74495798e-04,   1.00641701e-04,   6.52100844e-05,\n",
       "          6.25769923e-07,   1.21570099e-06,   4.10344780e-06,\n",
       "          1.01152436e-06,   2.99687507e-06,   1.03008599e-06,\n",
       "          1.17340271e-06,   1.40826266e-06,   1.01152436e-06,\n",
       "          4.31940659e-06,   1.27652315e-06,   9.79807218e-07,\n",
       "          4.49566384e-07,   9.60274217e-07,   1.35323402e-05,\n",
       "          2.19379643e-06,   8.77806426e-07,   2.10172285e-05,\n",
       "          3.25935628e-06,   8.92080638e-07,   1.76647985e-05,\n",
       "          1.74478677e-06,   6.25769923e-07,   2.03062099e-05,\n",
       "          8.77806426e-07,   9.73339773e-07,   4.78555972e-06,\n",
       "          3.32078654e-06,   4.06478623e-06,   9.73339773e-07]),\n",
       " 'std_test_score': array([ 0.00929934,  0.00652534,  0.01623779,  0.01623779,  0.00674345,\n",
       "         0.00652534,  0.02028966,  0.02028966,  0.00919849,  0.00652534,\n",
       "         0.02028966,  0.02028966,  0.01104945,  0.00652534,  0.02028966,\n",
       "         0.02028966,  0.02013136,  0.00652534,  0.02028966,  0.02028966,\n",
       "         0.0179222 ,  0.00652534,  0.02028966,  0.02028966,  0.01875716,\n",
       "         0.00652534,  0.02028966,  0.02028966,  0.01829443,  0.00652534,\n",
       "         0.02028966,  0.02028966,  0.01975564,  0.00652534,  0.02028966,\n",
       "         0.02028966]),\n",
       " 'std_train_score': array([ 0.00367289,  0.00374861,  0.01097811,  0.01097811,  0.00246328,\n",
       "         0.00374861,  0.01101772,  0.01101772,  0.00387476,  0.00374861,\n",
       "         0.01101772,  0.01101772,  0.00554275,  0.00374861,  0.01101772,\n",
       "         0.01101772,  0.00321171,  0.00374861,  0.01101772,  0.01101772,\n",
       "         0.00689147,  0.00374861,  0.01101772,  0.01101772,  0.00479959,\n",
       "         0.00374861,  0.01101772,  0.01101772,  0.00730335,  0.00374861,\n",
       "         0.01101772,  0.01101772,  0.00409304,  0.00374861,  0.01101772,\n",
       "         0.01101772])}"
      ]
     },
     "execution_count": 15,
     "metadata": {},
     "output_type": "execute_result"
    }
   ],
   "source": [
    "GSridge.cv_results_"
   ]
  },
  {
   "cell_type": "code",
   "execution_count": 16,
   "metadata": {},
   "outputs": [
    {
     "data": {
      "text/plain": [
       "0.95527728085867625"
      ]
     },
     "execution_count": 16,
     "metadata": {},
     "output_type": "execute_result"
    }
   ],
   "source": [
    "GSridge.best_score_"
   ]
  },
  {
   "cell_type": "code",
   "execution_count": 17,
   "metadata": {},
   "outputs": [
    {
     "data": {
      "text/plain": [
       "{'alpha': 1, 'fit_intercept': True, 'normalize': False}"
      ]
     },
     "execution_count": 17,
     "metadata": {},
     "output_type": "execute_result"
    }
   ],
   "source": [
    "GSridge.best_params_"
   ]
  },
  {
   "cell_type": "code",
   "execution_count": 18,
   "metadata": {
    "collapsed": true
   },
   "outputs": [],
   "source": [
    "best_ridge = RidgeClassifier(alpha=1, fit_intercept=True, normalize=False)"
   ]
  },
  {
   "cell_type": "code",
   "execution_count": 19,
   "metadata": {},
   "outputs": [
    {
     "data": {
      "text/plain": [
       "0.95714285714285718"
      ]
     },
     "execution_count": 19,
     "metadata": {},
     "output_type": "execute_result"
    }
   ],
   "source": [
    "best_ridge.fit(X_train, Y_train)\n",
    "Y_pred_bestridge = best_ridge.predict(X_test)\n",
    "accuracy_score(Y_test, Y_pred_bestridge)"
   ]
  },
  {
   "cell_type": "code",
   "execution_count": 22,
   "metadata": {},
   "outputs": [
    {
     "data": {
      "text/plain": [
       "GridSearchCV(cv=None, error_score='raise',\n",
       "       estimator=RandomForestClassifier(bootstrap=True, class_weight=None, criterion='gini',\n",
       "            max_depth=None, max_features='auto', max_leaf_nodes=None,\n",
       "            min_impurity_decrease=0.0, min_impurity_split=None,\n",
       "            min_samples_leaf=1, min_samples_split=2,\n",
       "            min_weight_fraction_leaf=0.0, n_estimators=10, n_jobs=1,\n",
       "            oob_score=False, random_state=None, verbose=0,\n",
       "            warm_start=False),\n",
       "       fit_params=None, iid=True, n_jobs=1,\n",
       "       param_grid={'n_estimators': range(10, 100, 2), 'max_features': range(2, 5), 'max_depth': [2, 10]},\n",
       "       pre_dispatch='2*n_jobs', refit=True, return_train_score='warn',\n",
       "       scoring=None, verbose=0)"
      ]
     },
     "execution_count": 22,
     "metadata": {},
     "output_type": "execute_result"
    }
   ],
   "source": [
    "rfc_params = {'n_estimators': range(10,100,2), 'max_features': range(2,5),\n",
    "             'max_depth': [2,10]}\n",
    "GSrfc = GridSearchCV(rfc, rfc_params)\n",
    "GSrfc.fit(X_train, Y_train)"
   ]
  },
  {
   "cell_type": "code",
   "execution_count": 23,
   "metadata": {},
   "outputs": [
    {
     "data": {
      "text/plain": [
       "{'max_depth': 10, 'max_features': 2, 'n_estimators': 68}"
      ]
     },
     "execution_count": 23,
     "metadata": {},
     "output_type": "execute_result"
    }
   ],
   "source": [
    "GSrfc.best_params_"
   ]
  },
  {
   "cell_type": "code",
   "execution_count": 24,
   "metadata": {
    "collapsed": true
   },
   "outputs": [],
   "source": [
    "best_rfc = RandomForestClassifier(n_estimators=68, max_depth=10, max_features=2)"
   ]
  },
  {
   "cell_type": "code",
   "execution_count": 25,
   "metadata": {},
   "outputs": [
    {
     "data": {
      "text/plain": [
       "0.95714285714285718"
      ]
     },
     "execution_count": 25,
     "metadata": {},
     "output_type": "execute_result"
    }
   ],
   "source": [
    "best_rfc.fit(X_train, Y_train)\n",
    "Y_best_rfc = best_rfc.predict(X_test)\n",
    "accuracy_score(Y_test,Y_best_rfc)"
   ]
  },
  {
   "cell_type": "markdown",
   "metadata": {},
   "source": [
    "Looks like the max score possible is .957"
   ]
  },
  {
   "cell_type": "code",
   "execution_count": null,
   "metadata": {
    "collapsed": true
   },
   "outputs": [],
   "source": []
  }
 ],
 "metadata": {
  "kernelspec": {
   "display_name": "Python 3",
   "language": "python",
   "name": "python3"
  },
  "language_info": {
   "codemirror_mode": {
    "name": "ipython",
    "version": 3
   },
   "file_extension": ".py",
   "mimetype": "text/x-python",
   "name": "python",
   "nbconvert_exporter": "python",
   "pygments_lexer": "ipython3",
   "version": "3.6.3"
  }
 },
 "nbformat": 4,
 "nbformat_minor": 2
}
