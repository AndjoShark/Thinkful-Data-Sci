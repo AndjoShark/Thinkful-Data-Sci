{
 "cells": [
  {
   "cell_type": "code",
   "execution_count": 1,
   "metadata": {
    "collapsed": true
   },
   "outputs": [],
   "source": [
    "%matplotlib inline\n",
    "import numpy as np\n",
    "import pandas as pd\n",
    "import scipy\n",
    "import sklearn\n",
    "import matplotlib.pyplot as plt\n",
    "import seaborn as sns"
   ]
  },
  {
   "cell_type": "code",
   "execution_count": 3,
   "metadata": {},
   "outputs": [],
   "source": [
    "yelp_data = ('/Users/joshuarkarnad/Desktop/Thinkful/Data/sentiment labelled sentences/yelp_labelled.txt')\n",
    "\n",
    "yelp = pd.read_csv(yelp_data, delimiter = '\\t', header=None)\n",
    "yelp.columns = ['Message', 'Positive_Review']"
   ]
  },
  {
   "cell_type": "code",
   "execution_count": 5,
   "metadata": {},
   "outputs": [
    {
     "name": "stdout",
     "output_type": "stream",
     "text": [
      "Accuracy: 62.3\n"
     ]
    }
   ],
   "source": [
    "keywords = ['disgusting', 'never', 'cheat', 'disaster', 'bland', 'unsatisfying', 'wasting', 'waste', 'nasty', 'hate', 'disappointed', 'disappointing', 'bad', 'worst', '\\?', 'not', 'sucks', 'stinks', 'horrible', 'gross']\n",
    "\n",
    "for key in keywords:\n",
    "    yelp[str(key)] = yelp.Message.str.contains(\n",
    "        ' ' + str(key) + ' ',\n",
    "        case=False\n",
    "    )\n",
    "    \n",
    "yelp['allcaps'] = yelp.Message.str.isupper()\n",
    "yelp['Message_Length'] = yelp.Message.map(len) \n",
    "yelp['LongMessage'] = yelp.Message.map(len) > 90\n",
    "data_yelp = yelp[keywords + ['allcaps', 'LongMessage'] ]\n",
    "target_yelp = yelp.Positive_Review\n",
    "\n",
    "from sklearn.naive_bayes import BernoulliNB\n",
    "\n",
    "# Instantiate our model and store it in a new variable.\n",
    "bnb = BernoulliNB()\n",
    "\n",
    "# Fit our model to the data.\n",
    "bnb.fit(data_yelp, target_yelp)\n",
    "\n",
    "# Classify, storing the result in a new variable.\n",
    "y_pred_yelp = bnb.predict(data_yelp)\n",
    "\n",
    "Yelp_Accuracy = ((target_yelp == y_pred_yelp).sum() / data_yelp.shape[0]) * 100\n",
    "# Display our results.\n",
    "print(\"Accuracy: {}\".format(Yelp_Accuracy))"
   ]
  },
  {
   "cell_type": "code",
   "execution_count": 6,
   "metadata": {},
   "outputs": [
    {
     "ename": "NameError",
     "evalue": "name 'amazon_data' is not defined",
     "output_type": "error",
     "traceback": [
      "\u001b[0;31m---------------------------------------------------------------------------\u001b[0m",
      "\u001b[0;31mNameError\u001b[0m                                 Traceback (most recent call last)",
      "\u001b[0;32m<ipython-input-6-7a4ae37b9f23>\u001b[0m in \u001b[0;36m<module>\u001b[0;34m()\u001b[0m\n\u001b[1;32m      1\u001b[0m \u001b[0mimdb_data\u001b[0m \u001b[0;34m=\u001b[0m \u001b[0;34m'/Users/joshuarkarnad/Desktop/Thinkful/Data/sentiment labelled sentences/imdb_labelled.txt'\u001b[0m\u001b[0;34m\u001b[0m\u001b[0m\n\u001b[0;32m----> 2\u001b[0;31m \u001b[0mimdb\u001b[0m \u001b[0;34m=\u001b[0m \u001b[0mpd\u001b[0m\u001b[0;34m.\u001b[0m\u001b[0mread_csv\u001b[0m\u001b[0;34m(\u001b[0m\u001b[0mamazon_data\u001b[0m\u001b[0;34m,\u001b[0m \u001b[0mdelimiter\u001b[0m \u001b[0;34m=\u001b[0m \u001b[0;34m'\\t'\u001b[0m\u001b[0;34m,\u001b[0m \u001b[0mheader\u001b[0m\u001b[0;34m=\u001b[0m\u001b[0;32mNone\u001b[0m\u001b[0;34m)\u001b[0m\u001b[0;34m\u001b[0m\u001b[0m\n\u001b[0m\u001b[1;32m      3\u001b[0m \u001b[0mimdb\u001b[0m\u001b[0;34m.\u001b[0m\u001b[0mcolumns\u001b[0m \u001b[0;34m=\u001b[0m \u001b[0;34m[\u001b[0m\u001b[0;34m'Message'\u001b[0m\u001b[0;34m,\u001b[0m \u001b[0;34m'Positive_Rating'\u001b[0m\u001b[0;34m]\u001b[0m\u001b[0;34m\u001b[0m\u001b[0m\n\u001b[1;32m      4\u001b[0m \u001b[0;34m\u001b[0m\u001b[0m\n\u001b[1;32m      5\u001b[0m \u001b[0;32mfor\u001b[0m \u001b[0mkey\u001b[0m \u001b[0;32min\u001b[0m \u001b[0mkeywords\u001b[0m\u001b[0;34m:\u001b[0m\u001b[0;34m\u001b[0m\u001b[0m\n",
      "\u001b[0;31mNameError\u001b[0m: name 'amazon_data' is not defined"
     ]
    }
   ],
   "source": [
    "imdb_data = '/Users/joshuarkarnad/Desktop/Thinkful/Data/sentiment labelled sentences/imdb_labelled.txt'\n",
    "imdb = pd.read_csv(amazon_data, delimiter = '\\t', header=None)\n",
    "imdb.columns = ['Message', 'Positive_Rating']\n",
    "\n",
    "for key in keywords:\n",
    "    imdb[str(key)] = imdb.Message.str.contains(\n",
    "        ' ' + str(key) + ' ',\n",
    "        case=False\n",
    "    )\n",
    "    \n",
    "imdb['allcaps'] = imdb.Message.str.isupper()\n",
    "\n",
    "imdb['Message_Length'] = imdb.Message.map(len) \n",
    "\n",
    "imdb['LongMessage'] = imdb.Message.map(len) > 90\n",
    "data_imdb = imdb[keywords + ['allcaps', 'LongMessage'] ]\n",
    "target_imdb = imdb.Positive_Rating\n",
    "\n",
    "from sklearn.naive_bayes import BernoulliNB\n",
    "\n",
    "# Instantiate our model and store it in a new variable.\n",
    "bnb = BernoulliNB()\n",
    "\n",
    "# Fit our model to the data.\n",
    "bnb.fit(data_imdb, target_imdb)\n",
    "\n",
    "# Classify, storing the result in a new variable.\n",
    "y_pred = bnb.predict(data_imdb)\n",
    "\n",
    "Accuracy_Imdb = ((target_imdb == y_pred).sum() / data_imdb.shape[0]) * 100\n",
    "\n",
    "# Display our results.\n",
    "print(\"Accuracy: {}\".format(Accuracy_Imdb))"
   ]
  },
  {
   "cell_type": "code",
   "execution_count": null,
   "metadata": {
    "collapsed": true
   },
   "outputs": [],
   "source": []
  }
 ],
 "metadata": {
  "kernelspec": {
   "display_name": "Python 3",
   "language": "python",
   "name": "python3"
  },
  "language_info": {
   "codemirror_mode": {
    "name": "ipython",
    "version": 3
   },
   "file_extension": ".py",
   "mimetype": "text/x-python",
   "name": "python",
   "nbconvert_exporter": "python",
   "pygments_lexer": "ipython3",
   "version": "3.6.3"
  }
 },
 "nbformat": 4,
 "nbformat_minor": 2
}
