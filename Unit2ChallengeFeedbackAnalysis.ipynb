{
 "cells": [
  {
   "cell_type": "code",
   "execution_count": 1,
   "metadata": {
    "collapsed": true
   },
   "outputs": [],
   "source": [
    "%matplotlib inline\n",
    "import numpy as np\n",
    "import pandas as pd\n",
    "import scipy\n",
    "import sklearn\n",
    "import matplotlib.pyplot as plt\n",
    "import seaborn as sns"
   ]
  },
  {
   "cell_type": "code",
   "execution_count": 3,
   "metadata": {},
   "outputs": [],
   "source": [
    "yelp_data = ('/Users/joshuarkarnad/Desktop/Thinkful/Data/sentiment labelled sentences/yelp_labelled.txt')\n",
    "\n",
    "yelp = pd.read_csv(yelp_data, delimiter = '\\t', header=None)\n",
    "yelp.columns = ['Message', 'Positive_Review']"
   ]
  },
  {
   "cell_type": "code",
   "execution_count": 5,
   "metadata": {},
   "outputs": [
    {
     "name": "stdout",
     "output_type": "stream",
     "text": [
      "Accuracy: 62.3\n"
     ]
    }
   ],
   "source": [
    "keywords = ['disgusting', 'never', 'cheat', 'disaster', 'bland', 'unsatisfying', 'wasting', 'waste', 'nasty', 'hate', 'disappointed', 'disappointing', 'bad', 'worst', '\\?', 'not', 'sucks', 'stinks', 'horrible', 'gross']\n",
    "\n",
    "for key in keywords:\n",
    "    yelp[str(key)] = yelp.Message.str.contains(\n",
    "        ' ' + str(key) + ' ',\n",
    "        case=False\n",
    "    )\n",
    "    \n",
    "yelp['allcaps'] = yelp.Message.str.isupper()\n",
    "yelp['Message_Length'] = yelp.Message.map(len) \n",
    "yelp['LongMessage'] = yelp.Message.map(len) > 90\n",
    "data_yelp = yelp[keywords + ['allcaps', 'LongMessage'] ]\n",
    "target_yelp = yelp.Positive_Review\n",
    "\n",
    "from sklearn.naive_bayes import BernoulliNB\n",
    "\n",
    "# Instantiate our model and store it in a new variable.\n",
    "bnb = BernoulliNB()\n",
    "\n",
    "# Fit our model to the data.\n",
    "bnb.fit(data_yelp, target_yelp)\n",
    "\n",
    "# Classify, storing the result in a new variable.\n",
    "y_pred_yelp = bnb.predict(data_yelp)\n",
    "\n",
    "Yelp_Accuracy = ((target_yelp == y_pred_yelp).sum() / data_yelp.shape[0]) * 100\n",
    "# Display our results.\n",
    "print(\"Accuracy: {}\".format(Yelp_Accuracy))"
   ]
  },
  {
   "cell_type": "code",
   "execution_count": 7,
   "metadata": {},
   "outputs": [
    {
     "name": "stdout",
     "output_type": "stream",
     "text": [
      "Accuracy: 60.16042780748663\n"
     ]
    }
   ],
   "source": [
    "imdb_data = '/Users/joshuarkarnad/Desktop/Thinkful/Data/sentiment labelled sentences/imdb_labelled.txt'\n",
    "imdb = pd.read_csv(imdb_data, delimiter = '\\t', header=None)\n",
    "imdb.columns = ['Message', 'Positive_Rating']\n",
    "\n",
    "for key in keywords:\n",
    "    imdb[str(key)] = imdb.Message.str.contains(\n",
    "        ' ' + str(key) + ' ',\n",
    "        case=False\n",
    "    )\n",
    "    \n",
    "imdb['allcaps'] = imdb.Message.str.isupper()\n",
    "\n",
    "imdb['Message_Length'] = imdb.Message.map(len) \n",
    "\n",
    "imdb['LongMessage'] = imdb.Message.map(len) > 90\n",
    "data_imdb = imdb[keywords + ['allcaps', 'LongMessage'] ]\n",
    "target_imdb = imdb.Positive_Rating\n",
    "\n",
    "from sklearn.naive_bayes import BernoulliNB\n",
    "\n",
    "# Instantiate our model and store it in a new variable.\n",
    "bnb = BernoulliNB()\n",
    "\n",
    "# Fit our model to the data.\n",
    "bnb.fit(data_imdb, target_imdb)\n",
    "\n",
    "# Classify, storing the result in a new variable.\n",
    "y_pred = bnb.predict(data_imdb)\n",
    "\n",
    "Accuracy_Imdb = ((target_imdb == y_pred).sum() / data_imdb.shape[0]) * 100\n",
    "\n",
    "# Display our results.\n",
    "print(\"Accuracy: {}\".format(Accuracy_Imdb))"
   ]
  },
  {
   "cell_type": "code",
   "execution_count": 8,
   "metadata": {},
   "outputs": [
    {
     "name": "stdout",
     "output_type": "stream",
     "text": [
      "Accuracy: 61.0\n"
     ]
    }
   ],
   "source": [
    "amazon_data = '/Users/joshuarkarnad/Desktop/Thinkful/Data/sentiment labelled sentences/amazon_cells_labelled.txt'\n",
    "amazon = pd.read_csv(amazon_data, delimiter = '\\t', header=None)\n",
    "amazon.columns = ['Message', 'Positive_Rating']\n",
    "\n",
    "for key in keywords:\n",
    "    amazon[str(key)] = amazon.Message.str.contains(\n",
    "        ' ' + str(key) + ' ',\n",
    "        case=False\n",
    "    )\n",
    "    \n",
    "amazon['allcaps'] = amazon.Message.str.isupper()\n",
    "\n",
    "amazon['Message_Length'] = amazon.Message.map(len) \n",
    "\n",
    "amazon['LongMessage'] = amazon.Message.map(len) > 90\n",
    "data_amaz = amazon[keywords + ['allcaps', 'LongMessage'] ]\n",
    "target_amazon = amazon.Positive_Rating\n",
    "\n",
    "from sklearn.naive_bayes import BernoulliNB\n",
    "\n",
    "# Instantiate our model and store it in a new variable.\n",
    "bnb = BernoulliNB()\n",
    "\n",
    "# Fit our model to the data.\n",
    "bnb.fit(data_amaz, target_amazon)\n",
    "\n",
    "# Classify, storing the result in a new variable.\n",
    "y_pred = bnb.predict(data_amaz)\n",
    "\n",
    "Accuracy_Amazon = ((target_amazon == y_pred).sum() / data_amaz.shape[0]) * 100\n",
    "\n",
    "# Display our results.\n",
    "print(\"Accuracy: {}\".format(Accuracy_Amazon))"
   ]
  },
  {
   "cell_type": "code",
   "execution_count": null,
   "metadata": {
    "collapsed": true
   },
   "outputs": [],
   "source": []
  }
 ],
 "metadata": {
  "kernelspec": {
   "display_name": "Python 3",
   "language": "python",
   "name": "python3"
  },
  "language_info": {
   "codemirror_mode": {
    "name": "ipython",
    "version": 3
   },
   "file_extension": ".py",
   "mimetype": "text/x-python",
   "name": "python",
   "nbconvert_exporter": "python",
   "pygments_lexer": "ipython3",
   "version": "3.6.3"
  }
 },
 "nbformat": 4,
 "nbformat_minor": 2
}
