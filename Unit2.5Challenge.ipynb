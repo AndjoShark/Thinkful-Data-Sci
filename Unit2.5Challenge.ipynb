{
 "cells": [
  {
   "cell_type": "code",
   "execution_count": 1,
   "metadata": {
    "collapsed": true
   },
   "outputs": [],
   "source": [
    "import math\n",
    "import warnings\n",
    "\n",
    "from IPython.display import display\n",
    "from matplotlib import pyplot as plt\n",
    "import numpy as np\n",
    "import pandas as pd\n",
    "import seaborn as sns\n",
    "from sklearn import linear_model\n",
    "import statsmodels.formula.api as smf\n",
    "\n",
    "# Display preferences.\n",
    "%matplotlib inline\n",
    "pd.options.display.float_format = '{:.3f}'.format\n",
    "\n",
    "# Suppress annoying harmless error.\n",
    "warnings.filterwarnings(\n",
    "    action=\"ignore\",\n",
    "    module=\"scipy\",\n",
    "    message=\"^internal gelsd\"\n",
    ")"
   ]
  },
  {
   "cell_type": "code",
   "execution_count": 2,
   "metadata": {
    "collapsed": true
   },
   "outputs": [],
   "source": [
    "df = pd.read_excel('/Users/joshuarkarnad/Desktop/Thinkful/Data/table_8_offenses_known_to_law_enforcement_new_york_by_city_2013.xls', skiprows = 3)\n",
    "df.columns = df.iloc[0]\n",
    "df = df.drop([0])\n",
    "columns = ['city', 'population', 'violent_crime',\n",
    "       'murder',\n",
    "       'Rape\\n(revised\\ndefinition)1', 'rape',\n",
    "       'robbery', 'aggravated_assault', 'property_crime', 'burglary',\n",
    "       'larceny', 'motor_vehicle_theft', 'arson']\n",
    "\n",
    "df.columns = columns"
   ]
  },
  {
   "cell_type": "code",
   "execution_count": 18,
   "metadata": {},
   "outputs": [
    {
     "data": {
      "text/html": [
       "<div>\n",
       "<style>\n",
       "    .dataframe thead tr:only-child th {\n",
       "        text-align: right;\n",
       "    }\n",
       "\n",
       "    .dataframe thead th {\n",
       "        text-align: left;\n",
       "    }\n",
       "\n",
       "    .dataframe tbody tr th {\n",
       "        vertical-align: top;\n",
       "    }\n",
       "</style>\n",
       "<table border=\"1\" class=\"dataframe\">\n",
       "  <thead>\n",
       "    <tr style=\"text-align: right;\">\n",
       "      <th></th>\n",
       "      <th>population</th>\n",
       "      <th>murder</th>\n",
       "      <th>rape</th>\n",
       "      <th>robbery</th>\n",
       "      <th>aggravated_assault</th>\n",
       "      <th>property_crime</th>\n",
       "    </tr>\n",
       "  </thead>\n",
       "  <tbody>\n",
       "    <tr>\n",
       "      <th>1</th>\n",
       "      <td>1861</td>\n",
       "      <td>0</td>\n",
       "      <td>0</td>\n",
       "      <td>0</td>\n",
       "      <td>0</td>\n",
       "      <td>12</td>\n",
       "    </tr>\n",
       "    <tr>\n",
       "      <th>2</th>\n",
       "      <td>2577</td>\n",
       "      <td>0</td>\n",
       "      <td>0</td>\n",
       "      <td>0</td>\n",
       "      <td>3</td>\n",
       "      <td>24</td>\n",
       "    </tr>\n",
       "    <tr>\n",
       "      <th>3</th>\n",
       "      <td>2846</td>\n",
       "      <td>0</td>\n",
       "      <td>0</td>\n",
       "      <td>0</td>\n",
       "      <td>3</td>\n",
       "      <td>16</td>\n",
       "    </tr>\n",
       "    <tr>\n",
       "      <th>4</th>\n",
       "      <td>97956</td>\n",
       "      <td>8</td>\n",
       "      <td>30</td>\n",
       "      <td>227</td>\n",
       "      <td>526</td>\n",
       "      <td>4090</td>\n",
       "    </tr>\n",
       "    <tr>\n",
       "      <th>5</th>\n",
       "      <td>6388</td>\n",
       "      <td>0</td>\n",
       "      <td>3</td>\n",
       "      <td>4</td>\n",
       "      <td>16</td>\n",
       "      <td>223</td>\n",
       "    </tr>\n",
       "  </tbody>\n",
       "</table>\n",
       "</div>"
      ],
      "text/plain": [
       "  population murder rape robbery aggravated_assault property_crime\n",
       "1       1861      0    0       0                  0             12\n",
       "2       2577      0    0       0                  3             24\n",
       "3       2846      0    0       0                  3             16\n",
       "4      97956      8   30     227                526           4090\n",
       "5       6388      0    3       4                 16            223"
      ]
     },
     "execution_count": 18,
     "metadata": {},
     "output_type": "execute_result"
    }
   ],
   "source": [
    "regression_columns = ['population',\n",
    "       'murder', 'rape',\n",
    "       'robbery', 'aggravated_assault', 'property_crime']\n",
    "ny = df[regression_columns]\n",
    "ny = ny.dropna()\n",
    "ny.head()"
   ]
  },
  {
   "cell_type": "code",
   "execution_count": 19,
   "metadata": {},
   "outputs": [
    {
     "data": {
      "text/html": [
       "<div>\n",
       "<style>\n",
       "    .dataframe thead tr:only-child th {\n",
       "        text-align: right;\n",
       "    }\n",
       "\n",
       "    .dataframe thead th {\n",
       "        text-align: left;\n",
       "    }\n",
       "\n",
       "    .dataframe tbody tr th {\n",
       "        vertical-align: top;\n",
       "    }\n",
       "</style>\n",
       "<table border=\"1\" class=\"dataframe\">\n",
       "  <thead>\n",
       "    <tr style=\"text-align: right;\">\n",
       "      <th></th>\n",
       "      <th>population</th>\n",
       "      <th>murder</th>\n",
       "      <th>rape</th>\n",
       "      <th>robbery</th>\n",
       "      <th>aggravated_assault</th>\n",
       "      <th>property_crime</th>\n",
       "    </tr>\n",
       "  </thead>\n",
       "  <tbody>\n",
       "    <tr>\n",
       "      <th>1</th>\n",
       "      <td>18150</td>\n",
       "      <td>0</td>\n",
       "      <td>0</td>\n",
       "      <td>13</td>\n",
       "      <td>6</td>\n",
       "      <td>237</td>\n",
       "    </tr>\n",
       "    <tr>\n",
       "      <th>2</th>\n",
       "      <td>8380</td>\n",
       "      <td>0</td>\n",
       "      <td>2</td>\n",
       "      <td>4</td>\n",
       "      <td>15</td>\n",
       "      <td>266</td>\n",
       "    </tr>\n",
       "    <tr>\n",
       "      <th>3</th>\n",
       "      <td>6712</td>\n",
       "      <td>0</td>\n",
       "      <td>0</td>\n",
       "      <td>0</td>\n",
       "      <td>0</td>\n",
       "      <td>37</td>\n",
       "    </tr>\n",
       "    <tr>\n",
       "      <th>4</th>\n",
       "      <td>493</td>\n",
       "      <td>0</td>\n",
       "      <td>0</td>\n",
       "      <td>0</td>\n",
       "      <td>0</td>\n",
       "      <td>39</td>\n",
       "    </tr>\n",
       "    <tr>\n",
       "      <th>5</th>\n",
       "      <td>1812</td>\n",
       "      <td>0</td>\n",
       "      <td>0</td>\n",
       "      <td>0</td>\n",
       "      <td>3</td>\n",
       "      <td>18</td>\n",
       "    </tr>\n",
       "  </tbody>\n",
       "</table>\n",
       "</div>"
      ],
      "text/plain": [
       "  population murder rape robbery aggravated_assault property_crime\n",
       "1      18150      0    0      13                  6            237\n",
       "2       8380      0    2       4                 15            266\n",
       "3       6712      0    0       0                  0             37\n",
       "4        493      0    0       0                  0             39\n",
       "5       1812      0    0       0                  3             18"
      ]
     },
     "execution_count": 19,
     "metadata": {},
     "output_type": "execute_result"
    }
   ],
   "source": [
    "nj = pd.read_excel('/Users/joshuarkarnad/Desktop/Thinkful/Data/table_8_offenses_known_to_law_enforcement_new_jersey_by_city_2013.xls', skiprows= 3)\n",
    "\n",
    "nj.columns = nj.iloc[0]\n",
    "nj = nj.drop([0])\n",
    "columns = ['city', 'population', 'violent_crime',\n",
    "       'murder',\n",
    "       'Rape\\n(revised\\ndefinition)1', 'rape',\n",
    "       'robbery', 'aggravated_assault', 'property_crime', 'burglary',\n",
    "       'larceny', 'motor_vehicle_theft', 'arson']\n",
    "\n",
    "nj.columns = columns\n",
    "\n",
    "regression_columns = ['population',\n",
    "       'murder', 'rape',\n",
    "       'robbery', 'aggravated_assault', 'property_crime']\n",
    "nj = nj[regression_columns]\n",
    "nj.isnull().sum()\n",
    "nj = nj.dropna()\n",
    "\n",
    "nj.head()"
   ]
  },
  {
   "cell_type": "code",
   "execution_count": 20,
   "metadata": {
    "collapsed": true
   },
   "outputs": [],
   "source": [
    "def find_score(feature_list, dataframe_training, dataframe_testing):\n",
    "    regr = linear_model.LinearRegression()\n",
    "    y_train = dataframe_training['property_crime'].values.reshape(-1, 1)\n",
    "    x_train = dataframe_training[feature_list]\n",
    "    regr.fit(x_train, y_train)\n",
    "    y_test = dataframe_testing['property_crime'].values.reshape(-1, 1)\n",
    "    x_test = dataframe_testing[feature_list]\n",
    "    return regr.score(x_test, y_test)"
   ]
  },
  {
   "cell_type": "code",
   "execution_count": 40,
   "metadata": {},
   "outputs": [],
   "source": [
    "from itertools import combinations\n"
   ]
  },
  {
   "cell_type": "code",
   "execution_count": 48,
   "metadata": {},
   "outputs": [
    {
     "name": "stdout",
     "output_type": "stream",
     "text": [
      "('population', 'murder', 'rape', 'robbery') 0.822716166661\n",
      "('population', 'murder', 'rape', 'aggravated_assault') 0.798765025843\n",
      "('population', 'murder', 'robbery', 'aggravated_assault') -0.14273020606\n",
      "('population', 'rape', 'robbery', 'aggravated_assault') 0.84806201268\n",
      "('murder', 'rape', 'robbery', 'aggravated_assault') 0.80649464429\n"
     ]
    }
   ],
   "source": [
    "training_features = ['population','murder','rape','robbery','aggravated_assault']\n",
    "combos_4 = combinations(training_features,4)\n",
    "combo_list_4 = list(combos_4)\n",
    "for x in combo_list_4:\n",
    "    score = find_score(list(x), ny, nj)\n",
    "    print(x, score)"
   ]
  },
  {
   "cell_type": "code",
   "execution_count": 42,
   "metadata": {},
   "outputs": [
    {
     "name": "stdout",
     "output_type": "stream",
     "text": [
      "('population', 'murder', 'rape', 'robbery', 'aggravated_assault') 0.808891666302\n"
     ]
    }
   ],
   "source": [
    "combos_5 = combinations(training_features,5)\n",
    "combo_list_5 = list(combos_5)\n",
    "for x in combo_list_5:\n",
    "    score = find_score(list(x), ny, nj)\n",
    "    print(x, score)"
   ]
  },
  {
   "cell_type": "code",
   "execution_count": 45,
   "metadata": {},
   "outputs": [
    {
     "name": "stdout",
     "output_type": "stream",
     "text": [
      "('population', 'murder', 'rape') 0.838625205625\n",
      "('population', 'murder', 'robbery') -0.623248946414\n",
      "('population', 'murder', 'aggravated_assault') -0.79666375333\n",
      "('population', 'rape', 'robbery') 0.733674332164\n",
      "('population', 'rape', 'aggravated_assault') 0.797556533961\n",
      "('population', 'robbery', 'aggravated_assault') -1.66041664219\n",
      "('murder', 'rape', 'robbery') 0.782635427904\n",
      "('murder', 'rape', 'aggravated_assault') 0.802402484186\n",
      "('murder', 'robbery', 'aggravated_assault') 0.255484848024\n",
      "('rape', 'robbery', 'aggravated_assault') 0.814428341269\n"
     ]
    }
   ],
   "source": [
    "combos_3 = combinations(training_features,3)\n",
    "combo_list_3 = list(combos_3)\n",
    "for x in combo_list_3:\n",
    "    score = find_score(list(x), ny, nj)\n",
    "    print(x, score)"
   ]
  },
  {
   "cell_type": "code",
   "execution_count": null,
   "metadata": {},
   "outputs": [],
   "source": []
  },
  {
   "cell_type": "code",
   "execution_count": null,
   "metadata": {
    "collapsed": true
   },
   "outputs": [],
   "source": []
  },
  {
   "cell_type": "code",
   "execution_count": null,
   "metadata": {
    "collapsed": true
   },
   "outputs": [],
   "source": []
  },
  {
   "cell_type": "code",
   "execution_count": null,
   "metadata": {
    "collapsed": true
   },
   "outputs": [],
   "source": []
  }
 ],
 "metadata": {
  "kernelspec": {
   "display_name": "Python 3",
   "language": "python",
   "name": "python3"
  },
  "language_info": {
   "codemirror_mode": {
    "name": "ipython",
    "version": 3
   },
   "file_extension": ".py",
   "mimetype": "text/x-python",
   "name": "python",
   "nbconvert_exporter": "python",
   "pygments_lexer": "ipython3",
   "version": "3.6.3"
  }
 },
 "nbformat": 4,
 "nbformat_minor": 2
}
