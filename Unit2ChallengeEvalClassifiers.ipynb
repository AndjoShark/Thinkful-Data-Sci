{
 "cells": [
  {
   "cell_type": "code",
   "execution_count": 2,
   "metadata": {
    "collapsed": true
   },
   "outputs": [],
   "source": [
    "%matplotlib inline\n",
    "import numpy as np\n",
    "import pandas as pd\n",
    "import scipy\n",
    "import sklearn\n",
    "import matplotlib.pyplot as plt\n",
    "import seaborn as sns"
   ]
  },
  {
   "cell_type": "code",
   "execution_count": 3,
   "metadata": {
    "collapsed": true
   },
   "outputs": [],
   "source": [
    "yelp_data = ('/Users/joshuarkarnad/Desktop/Thinkful/Data/sentiment labelled sentences/yelp_labelled.txt')\n",
    "\n",
    "yelp = pd.read_csv(yelp_data, delimiter = '\\t', header=None)\n",
    "yelp.columns = ['Message', 'Positive_Review']"
   ]
  },
  {
   "cell_type": "code",
   "execution_count": 4,
   "metadata": {},
   "outputs": [
    {
     "name": "stdout",
     "output_type": "stream",
     "text": [
      "Accuracy: 57.699999999999996\n"
     ]
    }
   ],
   "source": [
    "keywords = ['disgusting', 'never', 'cheat', 'disaster', 'bland', 'unsatisfying', \n",
    "            'wasting', 'waste', 'nasty', 'hate', 'disappointed', 'disappointing',\n",
    "            'bad', 'worst', '\\?', 'not good', 'not tasty', 'sucks', 'stinks', 'horrible', 'gross', 'drake']\n",
    "\n",
    "for key in keywords:\n",
    "    yelp[str(key)] = yelp.Message.str.contains(\n",
    "        ' ' + str(key) + ' ',\n",
    "        case=False\n",
    "    )\n",
    "    \n",
    "yelp['allcaps'] = yelp.Message.str.isupper()\n",
    "yelp['Message_Length'] = yelp.Message.map(len) \n",
    "yelp['LongMessage'] = yelp.Message.map(len) > 90\n",
    "data_yelp = yelp[keywords + ['allcaps', 'LongMessage'] ]\n",
    "target_yelp = yelp.Positive_Review\n",
    "\n",
    "from sklearn.naive_bayes import BernoulliNB\n",
    "\n",
    "# Instantiate our model and store it in a new variable.\n",
    "bnb = BernoulliNB()\n",
    "\n",
    "# Fit our model to the data.\n",
    "bnb.fit(data_yelp, target_yelp)\n",
    "\n",
    "# Classify, storing the result in a new variable.\n",
    "y_pred_yelp = bnb.predict(data_yelp)\n",
    "\n",
    "Yelp_Accuracy = ((target_yelp == y_pred_yelp).sum() / data_yelp.shape[0]) * 100\n",
    "# Display our results.\n",
    "print(\"Accuracy: {}\".format(Yelp_Accuracy))\n",
    "#Use CrossValidation method for Accuracy"
   ]
  },
  {
   "cell_type": "code",
   "execution_count": 5,
   "metadata": {},
   "outputs": [
    {
     "data": {
      "text/plain": [
       "array([[151, 349],\n",
       "       [ 74, 426]])"
      ]
     },
     "execution_count": 5,
     "metadata": {},
     "output_type": "execute_result"
    }
   ],
   "source": [
    "from sklearn.metrics import confusion_matrix\n",
    "confusion_matrix(target_yelp, y_pred_yelp)"
   ]
  },
  {
   "cell_type": "code",
   "execution_count": 6,
   "metadata": {
    "collapsed": true,
    "scrolled": true
   },
   "outputs": [],
   "source": [
    "good_words = ['good', 'tasty', 'yum', 'yummy', 'great', 'happy', 'delicious', 'beautiful', 'divine', 'amazing', 'delight', 'delightful']"
   ]
  },
  {
   "cell_type": "code",
   "execution_count": 12,
   "metadata": {
    "collapsed": true
   },
   "outputs": [],
   "source": [
    "\n",
    "for word in good_words:\n",
    "    yelp[str(word)] = yelp.Message.str.contains(\n",
    "        ' ' + str(word) + ' ',\n",
    "        case=False\n",
    "    )\n",
    "\n"
   ]
  },
  {
   "cell_type": "code",
   "execution_count": 16,
   "metadata": {},
   "outputs": [
    {
     "name": "stdout",
     "output_type": "stream",
     "text": [
      "0      False\n",
      "1      False\n",
      "2      False\n",
      "3      False\n",
      "4      False\n",
      "5      False\n",
      "6      False\n",
      "7      False\n",
      "8      False\n",
      "9      False\n",
      "10     False\n",
      "11     False\n",
      "12     False\n",
      "13     False\n",
      "14     False\n",
      "15     False\n",
      "16     False\n",
      "17     False\n",
      "18     False\n",
      "19     False\n",
      "20     False\n",
      "21     False\n",
      "22     False\n",
      "23     False\n",
      "24     False\n",
      "25     False\n",
      "26     False\n",
      "27     False\n",
      "28     False\n",
      "29     False\n",
      "       ...  \n",
      "970    False\n",
      "971    False\n",
      "972    False\n",
      "973    False\n",
      "974    False\n",
      "975    False\n",
      "976    False\n",
      "977    False\n",
      "978    False\n",
      "979    False\n",
      "980    False\n",
      "981    False\n",
      "982    False\n",
      "983    False\n",
      "984    False\n",
      "985    False\n",
      "986    False\n",
      "987    False\n",
      "988    False\n",
      "989    False\n",
      "990    False\n",
      "991    False\n",
      "992    False\n",
      "993    False\n",
      "994    False\n",
      "995    False\n",
      "996    False\n",
      "997    False\n",
      "998    False\n",
      "999    False\n",
      "Name: good, Length: 1000, dtype: bool\n"
     ]
    }
   ],
   "source": [
    "print(yelp[word])"
   ]
  },
  {
   "cell_type": "code",
   "execution_count": 19,
   "metadata": {},
   "outputs": [
    {
     "data": {
      "text/plain": [
       "good\n",
       "False    458\n",
       "True      42\n",
       "Name: Positive_Review, dtype: int64"
      ]
     },
     "execution_count": 19,
     "metadata": {},
     "output_type": "execute_result"
    }
   ],
   "source": [
    "yelp.Positive_Review.groupby(yelp[word]).agg(np.sum)"
   ]
  },
  {
   "cell_type": "code",
   "execution_count": 23,
   "metadata": {},
   "outputs": [
    {
     "data": {
      "text/html": [
       "<div>\n",
       "<style>\n",
       "    .dataframe thead tr:only-child th {\n",
       "        text-align: right;\n",
       "    }\n",
       "\n",
       "    .dataframe thead th {\n",
       "        text-align: left;\n",
       "    }\n",
       "\n",
       "    .dataframe tbody tr th {\n",
       "        vertical-align: top;\n",
       "    }\n",
       "</style>\n",
       "<table border=\"1\" class=\"dataframe\">\n",
       "  <thead>\n",
       "    <tr style=\"text-align: right;\">\n",
       "      <th></th>\n",
       "      <th>Positive_Review</th>\n",
       "    </tr>\n",
       "    <tr>\n",
       "      <th>good</th>\n",
       "      <th></th>\n",
       "    </tr>\n",
       "  </thead>\n",
       "  <tbody>\n",
       "    <tr>\n",
       "      <th>False</th>\n",
       "      <td>0.485169</td>\n",
       "    </tr>\n",
       "    <tr>\n",
       "      <th>True</th>\n",
       "      <td>0.750000</td>\n",
       "    </tr>\n",
       "  </tbody>\n",
       "</table>\n",
       "</div>"
      ],
      "text/plain": [
       "       Positive_Review\n",
       "good                  \n",
       "False         0.485169\n",
       "True          0.750000"
      ]
     },
     "execution_count": 23,
     "metadata": {},
     "output_type": "execute_result"
    }
   ],
   "source": [
    "yelp[['Positive_Review', word]].groupby(word).agg(np.mean)"
   ]
  },
  {
   "cell_type": "code",
   "execution_count": 25,
   "metadata": {},
   "outputs": [
    {
     "name": "stdout",
     "output_type": "stream",
     "text": [
      "       Positive_Review\n",
      "good                  \n",
      "False         0.485169\n",
      "True          0.750000\n",
      "       Positive_Review\n",
      "tasty                 \n",
      "False              0.5\n",
      "True               0.5\n",
      "       Positive_Review\n",
      "yum                   \n",
      "False         0.500501\n",
      "True          0.000000\n",
      "       Positive_Review\n",
      "yummy                 \n",
      "False         0.499498\n",
      "True          0.666667\n",
      "       Positive_Review\n",
      "great                 \n",
      "False         0.480249\n",
      "True          1.000000\n",
      "       Positive_Review\n",
      "happy                 \n",
      "False         0.495968\n",
      "True          1.000000\n",
      "           Positive_Review\n",
      "delicious                 \n",
      "False             0.497992\n",
      "True              1.000000\n",
      "           Positive_Review\n",
      "beautiful                 \n",
      "False             0.498998\n",
      "True              1.000000\n",
      "        Positive_Review\n",
      "divine                 \n",
      "False               0.5\n",
      "         Positive_Review\n",
      "amazing                 \n",
      "False           0.497482\n",
      "True            0.857143\n",
      "         Positive_Review\n",
      "delight                 \n",
      "False           0.499499\n",
      "True            1.000000\n",
      "            Positive_Review\n",
      "delightful                 \n",
      "False              0.499499\n",
      "True               1.000000\n"
     ]
    }
   ],
   "source": [
    "for word in good_words:\n",
    "    print(yelp[['Positive_Review', word]].groupby(word).agg(np.mean))"
   ]
  },
  {
   "cell_type": "code",
   "execution_count": null,
   "metadata": {
    "collapsed": true
   },
   "outputs": [],
   "source": [
    "#plot number vs accuracy make for loop from length"
   ]
  }
 ],
 "metadata": {
  "kernelspec": {
   "display_name": "Python 3",
   "language": "python",
   "name": "python3"
  },
  "language_info": {
   "codemirror_mode": {
    "name": "ipython",
    "version": 3
   },
   "file_extension": ".py",
   "mimetype": "text/x-python",
   "name": "python",
   "nbconvert_exporter": "python",
   "pygments_lexer": "ipython3",
   "version": "3.6.3"
  }
 },
 "nbformat": 4,
 "nbformat_minor": 2
}
